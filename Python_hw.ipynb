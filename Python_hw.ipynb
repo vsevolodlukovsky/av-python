{
 "cells": [
  {
   "cell_type": "code",
   "execution_count": 95,
   "metadata": {},
   "outputs": [],
   "source": [
    "import typing\n",
    "\n",
    "class CountVectorizer():\n",
    "    \n",
    "    def __init__(self,lowercase=True):\n",
    "        self.lowercase = lowercase\n",
    "        \n",
    "    def fit_transform(self,lst) -> list:\n",
    "        '''\n",
    "        Transform sentences to matrix_word\n",
    "        '''\n",
    "        dict_ = dict()\n",
    "        \n",
    "        #getting dict {word:{row:count}}\n",
    "        for i,el in enumerate(lst): \n",
    "            lst_word = el.split(' ')\n",
    "            for word in lst_word:\n",
    "                word = word.lower()\n",
    "                if word not in dict_:\n",
    "                    dict_[word] = dict()\n",
    "                    dict_[word][i] = 1\n",
    "                elif i in dict_[word]:\n",
    "                    dict_[word][i] = dict_[word][i] + 1\n",
    "                else:\n",
    "                    dict_[word][i] = 1\n",
    "        \n",
    "        #final matrix\n",
    "        lst_ = list()\n",
    "        #initialization\n",
    "        for i in range(len(lst)):\n",
    "            lst_.append([])\n",
    "            for j in range(len(dict_)):\n",
    "                lst_[i].append(0)\n",
    "\n",
    "        for i,word in enumerate(list(dict_.keys())):\n",
    "            for k1,v1 in dict_[word].items():\n",
    "                lst_[k1][i] = v1\n",
    "        self.features_list = dict_.keys()\n",
    "        return lst_\n",
    "    \n",
    "    def get_feature_names(self) -> list:\n",
    "        '''\n",
    "        Getting list of words\n",
    "        '''\n",
    "        return list(self.features_list)\n",
    "            \n"
   ]
  },
  {
   "cell_type": "code",
   "execution_count": 96,
   "metadata": {},
   "outputs": [
    {
     "name": "stdout",
     "output_type": "stream",
     "text": [
      "[[1, 1, 2, 1, 1, 1, 0, 0, 0, 0, 0, 0], [0, 0, 1, 0, 0, 0, 1, 1, 1, 1, 1, 1]]\n",
      "['crock', 'pot', 'pasta', 'never', 'boil', 'again', 'pomodoro', 'fresh', 'ingredients', 'parmesan', 'to', 'taste']\n"
     ]
    }
   ],
   "source": [
    "corpus = [\n",
    " 'Crock Pot Pasta Never boil pasta again',\n",
    " 'Pasta Pomodoro Fresh ingredients Parmesan to taste'\n",
    "]\n",
    "vectorizer = CountVectorizer()\n",
    "count_matrix = vectorizer.fit_transform(corpus)\n",
    "#print(vectorizer.get_feature_names())\n",
    "print(count_matrix)\n",
    "print(vectorizer.get_feature_names())\n"
   ]
  },
  {
   "cell_type": "code",
   "execution_count": null,
   "metadata": {},
   "outputs": [],
   "source": []
  },
  {
   "cell_type": "code",
   "execution_count": null,
   "metadata": {},
   "outputs": [],
   "source": []
  }
 ],
 "metadata": {
  "kernelspec": {
   "display_name": "Python 3",
   "language": "python",
   "name": "python3"
  },
  "language_info": {
   "codemirror_mode": {
    "name": "ipython",
    "version": 3
   },
   "file_extension": ".py",
   "mimetype": "text/x-python",
   "name": "python",
   "nbconvert_exporter": "python",
   "pygments_lexer": "ipython3",
   "version": "3.7.6"
  }
 },
 "nbformat": 4,
 "nbformat_minor": 4
}
