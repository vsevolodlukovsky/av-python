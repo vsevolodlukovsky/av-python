{
 "cells": [
  {
   "cell_type": "code",
   "execution_count": 2,
   "metadata": {},
   "outputs": [],
   "source": [
    "import typing\n",
    "\n",
    "class CountVectorizer():\n",
    "    \n",
    "    def __init__(self,lowercase=True):\n",
    "        self.lowercase = lowercase\n",
    "        \n",
    "    def fit_transform(self,lst) -> list:\n",
    "        '''\n",
    "        Transform sentences to matrix_word\n",
    "        '''\n",
    "        dict_ = {}\n",
    "        \n",
    "        #getting dict {word:{row:count}}\n",
    "        for i,el in enumerate(lst): \n",
    "            lst_word = el.split(' ')\n",
    "            for word in lst_word:\n",
    "                word = word.lower()\n",
    "                if word not in dict_:\n",
    "                    dict_[word] = dict()\n",
    "                    dict_[word][i] = 1\n",
    "                elif i in dict_[word]:\n",
    "                    dict_[word][i] = dict_[word][i] + 1\n",
    "                else:\n",
    "                    dict_[word][i] = 1\n",
    "        \n",
    "        #final matrix\n",
    "        lst_ = []\n",
    "        #initialization\n",
    "        for i in range(len(lst)):\n",
    "            lst_.append([])\n",
    "            for j in range(len(dict_)):\n",
    "                lst_[i].append(0)\n",
    "\n",
    "        for i,word in enumerate(list(dict_.keys())):\n",
    "            for k1,v1 in dict_[word].items():\n",
    "                lst_[k1][i] = v1\n",
    "        self.features_list = dict_.keys() # сразу сделать лист\n",
    "        \n",
    "        #посмотреть Counter Collections defaultdict setdefault\n",
    "        \n",
    "        return lst_\n",
    "    \n",
    "    def get_feature_names(self) -> list:\n",
    "        '''\n",
    "        Getting list of words\n",
    "        '''\n",
    "        return list(self.features_list)\n",
    "    \n",
    "    #def tf_transform(self):\n",
    "     #   tf_matrix = [[ num / sum(row) for num in row] for row in matrix]\n",
    "            \n"
   ]
  },
  {
   "cell_type": "code",
   "execution_count": 6,
   "metadata": {},
   "outputs": [
    {
     "name": "stdout",
     "output_type": "stream",
     "text": [
      "[[1, 1, 2, 1, 1, 1, 0, 0, 0, 0, 0, 0], [0, 0, 1, 0, 0, 0, 1, 1, 1, 1, 1, 1]]\n",
      "['crock', 'pot', 'pasta', 'never', 'boil', 'again', 'pomodoro', 'fresh', 'ingredients', 'parmesan', 'to', 'taste']\n",
      "14\n"
     ]
    }
   ],
   "source": [
    "corpus = [\n",
    " 'Crock Pot Pasta Never boil pasta again',\n",
    " 'Pasta Pomodoro Fresh ingredients Parmesan to taste'\n",
    "]\n",
    "vectorizer = CountVectorizer()\n",
    "count_matrix = vectorizer.fit_transform(corpus)\n",
    "#print(vectorizer.get_feature_names())\n",
    "print(count_matrix)\n",
    "print(vectorizer.get_feature_names())\n",
    "print(sum([sum(row) for row in count_matrix]))\n"
   ]
  },
  {
   "cell_type": "code",
   "execution_count": 11,
   "metadata": {},
   "outputs": [],
   "source": [
    "def tf_transform(matrix):\n",
    "    total = sum([sum(row) for row in count_matrix])\n",
    "    return [[round(num / total,2) for num in row] for row in matrix]"
   ]
  },
  {
   "cell_type": "code",
   "execution_count": 12,
   "metadata": {},
   "outputs": [
    {
     "data": {
      "text/plain": [
       "[[0.07, 0.07, 0.14, 0.07, 0.07, 0.07, 0.0, 0.0, 0.0, 0.0, 0.0, 0.0],\n",
       " [0.0, 0.0, 0.07, 0.0, 0.0, 0.0, 0.07, 0.07, 0.07, 0.07, 0.07, 0.07]]"
      ]
     },
     "execution_count": 12,
     "metadata": {},
     "output_type": "execute_result"
    }
   ],
   "source": [
    "tf_transform(count_matrix)"
   ]
  },
  {
   "cell_type": "code",
   "execution_count": 37,
   "metadata": {},
   "outputs": [],
   "source": [
    "from math import log\n",
    "def idf_transform(matrix):\n",
    "    doc_cnt = len(matrix)\n",
    "    matrix_idf = []\n",
    "    for i,doc in enumerate(matrix):\n",
    "        for j,num in enumerate(doc):\n",
    "            if i == 0:\n",
    "                matrix_idf.append(min(num,1))\n",
    "            else:\n",
    "                matrix_idf[j] = matrix_idf[j]+min(num,1)\n",
    "    \n",
    "    return [log((elem+1) / (doc_cnt+1)) + 1 for elem in matrix_idf]"
   ]
  },
  {
   "cell_type": "code",
   "execution_count": 38,
   "metadata": {},
   "outputs": [
    {
     "data": {
      "text/plain": [
       "[0.5945348918918356,\n",
       " 0.5945348918918356,\n",
       " 1.0,\n",
       " 0.5945348918918356,\n",
       " 0.5945348918918356,\n",
       " 0.5945348918918356,\n",
       " 0.5945348918918356,\n",
       " 0.5945348918918356,\n",
       " 0.5945348918918356,\n",
       " 0.5945348918918356,\n",
       " 0.5945348918918356,\n",
       " 0.5945348918918356]"
      ]
     },
     "execution_count": 38,
     "metadata": {},
     "output_type": "execute_result"
    }
   ],
   "source": [
    "idf_transform(count_matrix)"
   ]
  },
  {
   "cell_type": "code",
   "execution_count": 76,
   "metadata": {},
   "outputs": [],
   "source": [
    "def fit_transform(matrix):\n",
    "    print (tf_transform(matrix))\n",
    "    print(idf_transform(matrix))\n",
    "    return [[tf*idf for tf,idf in zip(tf_row,idf_transform(matrix))] for tf_row in tf_transform(matrix)]\n",
    "        \n",
    "        \n",
    "            "
   ]
  },
  {
   "cell_type": "code",
   "execution_count": 77,
   "metadata": {},
   "outputs": [
    {
     "name": "stdout",
     "output_type": "stream",
     "text": [
      "[[0.07, 0.07, 0.14, 0.07, 0.07, 0.07, 0.0, 0.0, 0.0, 0.0, 0.0, 0.0], [0.0, 0.0, 0.07, 0.0, 0.0, 0.0, 0.07, 0.07, 0.07, 0.07, 0.07, 0.07]]\n",
      "[0.5945348918918356, 0.5945348918918356, 1.0, 0.5945348918918356, 0.5945348918918356, 0.5945348918918356, 0.5945348918918356, 0.5945348918918356, 0.5945348918918356, 0.5945348918918356, 0.5945348918918356, 0.5945348918918356]\n"
     ]
    },
    {
     "data": {
      "text/plain": [
       "[[0.0416174424324285,\n",
       "  0.0416174424324285,\n",
       "  0.14,\n",
       "  0.0416174424324285,\n",
       "  0.0416174424324285,\n",
       "  0.0416174424324285,\n",
       "  0.0,\n",
       "  0.0,\n",
       "  0.0,\n",
       "  0.0,\n",
       "  0.0,\n",
       "  0.0],\n",
       " [0.0,\n",
       "  0.0,\n",
       "  0.07,\n",
       "  0.0,\n",
       "  0.0,\n",
       "  0.0,\n",
       "  0.0416174424324285,\n",
       "  0.0416174424324285,\n",
       "  0.0416174424324285,\n",
       "  0.0416174424324285,\n",
       "  0.0416174424324285,\n",
       "  0.0416174424324285]]"
      ]
     },
     "execution_count": 77,
     "metadata": {},
     "output_type": "execute_result"
    }
   ],
   "source": [
    "fit_transform(count_matrix)"
   ]
  },
  {
   "cell_type": "code",
   "execution_count": 81,
   "metadata": {},
   "outputs": [],
   "source": [
    "class TfidfTransformer():\n",
    "    \n",
    "    def __init__(self,lowercase=True):\n",
    "        self.lowercase = lowercase\n",
    "    \n",
    "    def tf_transform(self,matrix):\n",
    "        total = sum([sum(row) for row in count_matrix])\n",
    "        return [[round(num / total,2) for num in row] for row in matrix]\n",
    "    \n",
    "    def idf_transform(self,matrix):\n",
    "        doc_cnt = len(matrix)\n",
    "        matrix_idf = []\n",
    "        for i,doc in enumerate(matrix):\n",
    "            for j,num in enumerate(doc):\n",
    "                if i == 0:\n",
    "                    matrix_idf.append(min(num,1))\n",
    "                else:\n",
    "                    matrix_idf[j] = matrix_idf[j]+min(num,1)\n",
    "    \n",
    "        return [log((elem+1) / (doc_cnt+1)) + 1 for elem in matrix_idf]\n",
    "    \n",
    "    def fit_transform(self,matrix):\n",
    "        return [[tf*idf for tf,idf in zip(tf_row,self.idf_transform(matrix))] for tf_row in self.tf_transform(matrix)]"
   ]
  },
  {
   "cell_type": "code",
   "execution_count": 83,
   "metadata": {},
   "outputs": [
    {
     "name": "stdout",
     "output_type": "stream",
     "text": [
      "[[0.0416174424324285, 0.0416174424324285, 0.14, 0.0416174424324285, 0.0416174424324285, 0.0416174424324285, 0.0, 0.0, 0.0, 0.0, 0.0, 0.0], [0.0, 0.0, 0.07, 0.0, 0.0, 0.0, 0.0416174424324285, 0.0416174424324285, 0.0416174424324285, 0.0416174424324285, 0.0416174424324285, 0.0416174424324285]]\n"
     ]
    }
   ],
   "source": [
    "transformer = TfidfTransformer()\n",
    "tfidf_matrix = transformer.fit_transform(count_matrix)\n",
    "print(tfidf_matrix)"
   ]
  },
  {
   "cell_type": "code",
   "execution_count": 87,
   "metadata": {},
   "outputs": [],
   "source": [
    "class TfidfVectorizer():\n",
    "    \n",
    "    def __init__(self,lowercase=True):\n",
    "        self.lowercase = lowercase\n",
    "    \n",
    "    def tf_transform(self,matrix):\n",
    "        total = sum([sum(row) for row in count_matrix])\n",
    "        return [[round(num / total,2) for num in row] for row in matrix]\n",
    "    \n",
    "    def idf_transform(self,matrix):\n",
    "        doc_cnt = len(matrix)\n",
    "        matrix_idf = []\n",
    "        for i,doc in enumerate(matrix):\n",
    "            for j,num in enumerate(doc):\n",
    "                if i == 0:\n",
    "                    matrix_idf.append(min(num,1))\n",
    "                else:\n",
    "                    matrix_idf[j] = matrix_idf[j]+min(num,1)\n",
    "    \n",
    "        return [log((elem+1) / (doc_cnt+1)) + 1 for elem in matrix_idf]\n",
    "    \n",
    "    def fit_transform(self,lst):\n",
    "        \n",
    "        '''\n",
    "        Transform sentences to matrix_word\n",
    "        '''\n",
    "        dict_ = {}\n",
    "        \n",
    "        #getting dict {word:{row:count}}\n",
    "        for i,el in enumerate(lst): \n",
    "            lst_word = el.split(' ')\n",
    "            for word in lst_word:\n",
    "                word = word.lower()\n",
    "                if word not in dict_:\n",
    "                    dict_[word] = dict()\n",
    "                    dict_[word][i] = 1\n",
    "                elif i in dict_[word]:\n",
    "                    dict_[word][i] = dict_[word][i] + 1\n",
    "                else:\n",
    "                    dict_[word][i] = 1\n",
    "        \n",
    "        #final matrix\n",
    "        lst_ = []\n",
    "        #initialization\n",
    "        for i in range(len(lst)):\n",
    "            lst_.append([])\n",
    "            for j in range(len(dict_)):\n",
    "                lst_[i].append(0)\n",
    "\n",
    "        for i,word in enumerate(list(dict_.keys())):\n",
    "            for k1,v1 in dict_[word].items():\n",
    "                lst_[k1][i] = v1\n",
    "        self.features_list = dict_.keys() # сразу сделать лист\n",
    "        \n",
    "        #посмотреть Counter Collections defaultdict setdefault\n",
    "        \n",
    "        return [[tf*idf for tf,idf in zip(tf_row,self.idf_transform(lst_))] for tf_row in self.tf_transform(lst_)]\n",
    "    \n",
    "    def get_feature_names(self) -> list:\n",
    "        '''\n",
    "        Getting list of words\n",
    "        '''\n",
    "        return list(self.features_list)"
   ]
  },
  {
   "cell_type": "code",
   "execution_count": 88,
   "metadata": {},
   "outputs": [
    {
     "name": "stdout",
     "output_type": "stream",
     "text": [
      "['crock', 'pot', 'pasta', 'never', 'boil', 'again', 'pomodoro', 'fresh', 'ingredients', 'parmesan', 'to', 'taste']\n",
      "[[0.0416174424324285, 0.0416174424324285, 0.14, 0.0416174424324285, 0.0416174424324285, 0.0416174424324285, 0.0, 0.0, 0.0, 0.0, 0.0, 0.0], [0.0, 0.0, 0.07, 0.0, 0.0, 0.0, 0.0416174424324285, 0.0416174424324285, 0.0416174424324285, 0.0416174424324285, 0.0416174424324285, 0.0416174424324285]]\n"
     ]
    }
   ],
   "source": [
    "corpus = [\n",
    " 'Crock Pot Pasta Never boil pasta again',\n",
    " 'Pasta Pomodoro Fresh ingredients Parmesan to taste'\n",
    "]\n",
    "vectorizer = TfidfVectorizer()\n",
    "tfidf_matrix = vectorizer.fit_transform(corpus)\n",
    "print(vectorizer.get_feature_names())\n",
    "print(tfidf_matrix)"
   ]
  },
  {
   "cell_type": "code",
   "execution_count": null,
   "metadata": {},
   "outputs": [],
   "source": []
  }
 ],
 "metadata": {
  "kernelspec": {
   "display_name": "Python 3",
   "language": "python",
   "name": "python3"
  },
  "language_info": {
   "codemirror_mode": {
    "name": "ipython",
    "version": 3
   },
   "file_extension": ".py",
   "mimetype": "text/x-python",
   "name": "python",
   "nbconvert_exporter": "python",
   "pygments_lexer": "ipython3",
   "version": "3.7.6"
  }
 },
 "nbformat": 4,
 "nbformat_minor": 4
}
